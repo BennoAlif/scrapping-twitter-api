{
 "cells": [
  {
   "cell_type": "code",
   "execution_count": 68,
   "metadata": {},
   "outputs": [],
   "source": [
    "import tweepy\n",
    "import pandas as pd"
   ]
  },
  {
   "cell_type": "code",
   "execution_count": 69,
   "metadata": {},
   "outputs": [],
   "source": [
    "BEARER_TOKEN = \"AAAAAAAAAAAAAAAAAAAAAEkYWAEAAAAAiCZ95QEqxNKuluivi0dNKwu%2BUIA%3DpXPhzD5xrJFlCx6roDUnzjJ6jtuh8wr2AyPhfZls4g4Yo4kH8y\"\n",
    "client = tweepy.Client(bearer_token=BEARER_TOKEN)"
   ]
  },
  {
   "cell_type": "code",
   "execution_count": 70,
   "metadata": {},
   "outputs": [],
   "source": [
    "tweet_ids = [\n",
    "  \"1565127272394268674\",\n",
    "  \"1565127272478097409\",\n",
    "  \"1565127272616660992\",\n",
    "  \"1565127272855924737\",\n",
    "  \"1565127273023508482\",\n",
    "  \"1565127273795227649\",\n",
    "  \"1565127274323755010\",\n",
    "  \"1565127274495500288\",\n",
    "  \"1565127274839547911\",\n",
    "  \"1565127275162619906\",\n",
    "  \"1565127275535745024\",\n",
    "  \"1565127276110684160\",\n",
    "  \"1565127276093755398\",\n",
    "  \"1565127276202803200\",\n",
    "  \"1565127276345401346\",\n",
    "  \"1565127276479631360\",\n",
    "  \"1565127277452709888\",\n",
    "  \"1565127277905526784\",\n",
    "  \"1565127279159570432\",\n",
    "  \"1565127278870384641\",\n",
    "]"
   ]
  },
  {
   "cell_type": "code",
   "execution_count": 71,
   "metadata": {},
   "outputs": [],
   "source": [
    "tweets = client.get_tweets(\n",
    "  ids=tweet_ids,\n",
    ")"
   ]
  },
  {
   "cell_type": "code",
   "execution_count": 72,
   "metadata": {},
   "outputs": [
    {
     "data": {
      "text/html": [
       "<div>\n",
       "<style scoped>\n",
       "    .dataframe tbody tr th:only-of-type {\n",
       "        vertical-align: middle;\n",
       "    }\n",
       "\n",
       "    .dataframe tbody tr th {\n",
       "        vertical-align: top;\n",
       "    }\n",
       "\n",
       "    .dataframe thead th {\n",
       "        text-align: right;\n",
       "    }\n",
       "</style>\n",
       "<table border=\"1\" class=\"dataframe\">\n",
       "  <thead>\n",
       "    <tr style=\"text-align: right;\">\n",
       "      <th></th>\n",
       "      <th>textID</th>\n",
       "      <th>tweet_text</th>\n",
       "    </tr>\n",
       "  </thead>\n",
       "  <tbody>\n",
       "    <tr>\n",
       "      <th>0</th>\n",
       "      <td>1565127272394268674</td>\n",
       "      <td>RT @PelosiTracker_: BREAKING🚨:\\n\\nRemember whe...</td>\n",
       "    </tr>\n",
       "    <tr>\n",
       "      <th>1</th>\n",
       "      <td>1565127272478097409</td>\n",
       "      <td>RT @tw2lulu: キエフで開催されたゼレンスキーのダンスパーティーを衝撃的に見つめる...</td>\n",
       "    </tr>\n",
       "    <tr>\n",
       "      <th>2</th>\n",
       "      <td>1565127272616660992</td>\n",
       "      <td>RT @MSNBC: Rachel Maddow: How worried are you ...</td>\n",
       "    </tr>\n",
       "    <tr>\n",
       "      <th>3</th>\n",
       "      <td>1565127272855924737</td>\n",
       "      <td>ロシア国営ガスプロムのミラーＣＥＯは西側諸国の制裁により、独シーメンス・エナジーは欧州に天然...</td>\n",
       "    </tr>\n",
       "    <tr>\n",
       "      <th>4</th>\n",
       "      <td>1565127273023508482</td>\n",
       "      <td>RT @WarMonitor3: Russian forces are attempting...</td>\n",
       "    </tr>\n",
       "  </tbody>\n",
       "</table>\n",
       "</div>"
      ],
      "text/plain": [
       "                textID                                         tweet_text\n",
       "0  1565127272394268674  RT @PelosiTracker_: BREAKING🚨:\\n\\nRemember whe...\n",
       "1  1565127272478097409  RT @tw2lulu: キエフで開催されたゼレンスキーのダンスパーティーを衝撃的に見つめる...\n",
       "2  1565127272616660992  RT @MSNBC: Rachel Maddow: How worried are you ...\n",
       "3  1565127272855924737  ロシア国営ガスプロムのミラーＣＥＯは西側諸国の制裁により、独シーメンス・エナジーは欧州に天然...\n",
       "4  1565127273023508482  RT @WarMonitor3: Russian forces are attempting..."
      ]
     },
     "execution_count": 72,
     "metadata": {},
     "output_type": "execute_result"
    }
   ],
   "source": [
    "tweet_response_list = []\n",
    "\n",
    "for tweet in tweets.data:\n",
    "  tweet_response = {\n",
    "    'textID': str(tweet.id),\n",
    "    'tweet_text': tweet.text,\n",
    "  }\n",
    "  tweet_response_list.append(tweet_response)\n",
    "\n",
    "\n",
    "tweets_df = pd.DataFrame(tweet_response_list)\n",
    "\n",
    "tweets_df.head()"
   ]
  },
  {
   "cell_type": "code",
   "execution_count": 73,
   "metadata": {},
   "outputs": [],
   "source": [
    "tweets_df.to_excel('tweets.xlsx')"
   ]
  }
 ],
 "metadata": {
  "kernelspec": {
   "display_name": "Python 3.9.12 ('base')",
   "language": "python",
   "name": "python3"
  },
  "language_info": {
   "codemirror_mode": {
    "name": "ipython",
    "version": 3
   },
   "file_extension": ".py",
   "mimetype": "text/x-python",
   "name": "python",
   "nbconvert_exporter": "python",
   "pygments_lexer": "ipython3",
   "version": "3.9.12"
  },
  "orig_nbformat": 4,
  "vscode": {
   "interpreter": {
    "hash": "671a6aa7e5f53b45fe807cb744f50ebce4c530f21920d4a62ee77cb740d991f9"
   }
  }
 },
 "nbformat": 4,
 "nbformat_minor": 2
}
