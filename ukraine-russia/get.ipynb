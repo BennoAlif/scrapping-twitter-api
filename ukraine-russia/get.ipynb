{
 "cells": [
  {
   "cell_type": "code",
   "execution_count": 21,
   "metadata": {},
   "outputs": [],
   "source": [
    "from os import listdir\n",
    "from os.path import isfile, join\n",
    "import tweepy\n",
    "import pandas as pd"
   ]
  },
  {
   "cell_type": "code",
   "execution_count": 22,
   "metadata": {},
   "outputs": [],
   "source": [
    "BEARER_TOKEN = \"AAAAAAAAAAAAAAAAAAAAAEkYWAEAAAAAiCZ95QEqxNKuluivi0dNKwu%2BUIA%3DpXPhzD5xrJFlCx6roDUnzjJ6jtuh8wr2AyPhfZls4g4Yo4kH8y\"\n",
    "client = tweepy.Client(bearer_token=BEARER_TOKEN)"
   ]
  },
  {
   "cell_type": "code",
   "execution_count": 23,
   "metadata": {},
   "outputs": [],
   "source": [
    "onlyfiles = [f for f in listdir(\"./\") if isfile(join(\"./\", f))]"
   ]
  },
  {
   "cell_type": "code",
   "execution_count": 24,
   "metadata": {},
   "outputs": [
    {
     "ename": "TooManyRequests",
     "evalue": "429 Too Many Requests\nToo Many Requests",
     "output_type": "error",
     "traceback": [
      "\u001b[1;31m---------------------------------------------------------------------------\u001b[0m",
      "\u001b[1;31mTooManyRequests\u001b[0m                           Traceback (most recent call last)",
      "\u001b[1;32md:\\CODELABS\\project\\python\\Scrapping Twitter API\\ukraine-russia\\get.ipynb Cell 4\u001b[0m in \u001b[0;36m<cell line: 2>\u001b[1;34m()\u001b[0m\n\u001b[0;32m      <a href='vscode-notebook-cell:/d%3A/CODELABS/project/python/Scrapping%20Twitter%20API/ukraine-russia/get.ipynb#W3sZmlsZQ%3D%3D?line=5'>6</a>\u001b[0m ids \u001b[39m=\u001b[39m f\u001b[39m.\u001b[39mreadlines()\n\u001b[0;32m      <a href='vscode-notebook-cell:/d%3A/CODELABS/project/python/Scrapping%20Twitter%20API/ukraine-russia/get.ipynb#W3sZmlsZQ%3D%3D?line=6'>7</a>\u001b[0m \u001b[39mfor\u001b[39;00m \u001b[39mid\u001b[39m \u001b[39min\u001b[39;00m ids:\n\u001b[1;32m----> <a href='vscode-notebook-cell:/d%3A/CODELABS/project/python/Scrapping%20Twitter%20API/ukraine-russia/get.ipynb#W3sZmlsZQ%3D%3D?line=7'>8</a>\u001b[0m   tweet \u001b[39m=\u001b[39m client\u001b[39m.\u001b[39;49mget_tweet(\n\u001b[0;32m      <a href='vscode-notebook-cell:/d%3A/CODELABS/project/python/Scrapping%20Twitter%20API/ukraine-russia/get.ipynb#W3sZmlsZQ%3D%3D?line=8'>9</a>\u001b[0m     \u001b[39mid\u001b[39;49m\u001b[39m=\u001b[39;49m\u001b[39mid\u001b[39;49m\u001b[39m.\u001b[39;49mstrip(),\n\u001b[0;32m     <a href='vscode-notebook-cell:/d%3A/CODELABS/project/python/Scrapping%20Twitter%20API/ukraine-russia/get.ipynb#W3sZmlsZQ%3D%3D?line=9'>10</a>\u001b[0m   )\n\u001b[0;32m     <a href='vscode-notebook-cell:/d%3A/CODELABS/project/python/Scrapping%20Twitter%20API/ukraine-russia/get.ipynb#W3sZmlsZQ%3D%3D?line=10'>11</a>\u001b[0m   \u001b[39mif\u001b[39;00m tweet\u001b[39m.\u001b[39mdata \u001b[39mis\u001b[39;00m \u001b[39mnot\u001b[39;00m \u001b[39mNone\u001b[39;00m:\n\u001b[0;32m     <a href='vscode-notebook-cell:/d%3A/CODELABS/project/python/Scrapping%20Twitter%20API/ukraine-russia/get.ipynb#W3sZmlsZQ%3D%3D?line=12'>13</a>\u001b[0m     tweet_response \u001b[39m=\u001b[39m {\n\u001b[0;32m     <a href='vscode-notebook-cell:/d%3A/CODELABS/project/python/Scrapping%20Twitter%20API/ukraine-russia/get.ipynb#W3sZmlsZQ%3D%3D?line=13'>14</a>\u001b[0m       \u001b[39m'\u001b[39m\u001b[39mtextID\u001b[39m\u001b[39m'\u001b[39m: \u001b[39mstr\u001b[39m(tweet\u001b[39m.\u001b[39mdata\u001b[39m.\u001b[39mid),\n\u001b[0;32m     <a href='vscode-notebook-cell:/d%3A/CODELABS/project/python/Scrapping%20Twitter%20API/ukraine-russia/get.ipynb#W3sZmlsZQ%3D%3D?line=14'>15</a>\u001b[0m       \u001b[39m'\u001b[39m\u001b[39mtweet_text\u001b[39m\u001b[39m'\u001b[39m: tweet\u001b[39m.\u001b[39mdata\u001b[39m.\u001b[39mtext,\n\u001b[0;32m     <a href='vscode-notebook-cell:/d%3A/CODELABS/project/python/Scrapping%20Twitter%20API/ukraine-russia/get.ipynb#W3sZmlsZQ%3D%3D?line=15'>16</a>\u001b[0m     }\n",
      "File \u001b[1;32mc:\\Users\\BAlif\\anaconda3\\lib\\site-packages\\tweepy\\client.py:1755\u001b[0m, in \u001b[0;36mClient.get_tweet\u001b[1;34m(self, id, user_auth, **params)\u001b[0m\n\u001b[0;32m   1718\u001b[0m \u001b[39mdef\u001b[39;00m \u001b[39mget_tweet\u001b[39m(\u001b[39mself\u001b[39m, \u001b[39mid\u001b[39m, \u001b[39m*\u001b[39m, user_auth\u001b[39m=\u001b[39m\u001b[39mFalse\u001b[39;00m, \u001b[39m*\u001b[39m\u001b[39m*\u001b[39mparams):\n\u001b[0;32m   1719\u001b[0m     \u001b[39m\"\"\"get_tweet( \\\u001b[39;00m\n\u001b[0;32m   1720\u001b[0m \u001b[39m        id, *, expansions=None, media_fields=None, place_fields=None, \\\u001b[39;00m\n\u001b[0;32m   1721\u001b[0m \u001b[39m        poll_fields=None, tweet_fields=None, user_fields=None, \\\u001b[39;00m\n\u001b[1;32m   (...)\u001b[0m\n\u001b[0;32m   1753\u001b[0m \u001b[39m    https://developer.twitter.com/en/docs/twitter-api/tweets/lookup/api-reference/get-tweets-id\u001b[39;00m\n\u001b[0;32m   1754\u001b[0m \u001b[39m    \"\"\"\u001b[39;00m\n\u001b[1;32m-> 1755\u001b[0m     \u001b[39mreturn\u001b[39;00m \u001b[39mself\u001b[39;49m\u001b[39m.\u001b[39;49m_make_request(\n\u001b[0;32m   1756\u001b[0m         \u001b[39m\"\u001b[39;49m\u001b[39mGET\u001b[39;49m\u001b[39m\"\u001b[39;49m, \u001b[39mf\u001b[39;49m\u001b[39m\"\u001b[39;49m\u001b[39m/2/tweets/\u001b[39;49m\u001b[39m{\u001b[39;49;00m\u001b[39mid\u001b[39;49m\u001b[39m}\u001b[39;49;00m\u001b[39m\"\u001b[39;49m, params\u001b[39m=\u001b[39;49mparams,\n\u001b[0;32m   1757\u001b[0m         endpoint_parameters\u001b[39m=\u001b[39;49m(\n\u001b[0;32m   1758\u001b[0m             \u001b[39m\"\u001b[39;49m\u001b[39mexpansions\u001b[39;49m\u001b[39m\"\u001b[39;49m, \u001b[39m\"\u001b[39;49m\u001b[39mmedia.fields\u001b[39;49m\u001b[39m\"\u001b[39;49m, \u001b[39m\"\u001b[39;49m\u001b[39mplace.fields\u001b[39;49m\u001b[39m\"\u001b[39;49m, \u001b[39m\"\u001b[39;49m\u001b[39mpoll.fields\u001b[39;49m\u001b[39m\"\u001b[39;49m,\n\u001b[0;32m   1759\u001b[0m             \u001b[39m\"\u001b[39;49m\u001b[39mtweet.fields\u001b[39;49m\u001b[39m\"\u001b[39;49m, \u001b[39m\"\u001b[39;49m\u001b[39muser.fields\u001b[39;49m\u001b[39m\"\u001b[39;49m\n\u001b[0;32m   1760\u001b[0m         ), data_type\u001b[39m=\u001b[39;49mTweet, user_auth\u001b[39m=\u001b[39;49muser_auth\n\u001b[0;32m   1761\u001b[0m     )\n",
      "File \u001b[1;32mc:\\Users\\BAlif\\anaconda3\\lib\\site-packages\\tweepy\\client.py:126\u001b[0m, in \u001b[0;36mBaseClient._make_request\u001b[1;34m(self, method, route, params, endpoint_parameters, json, data_type, user_auth)\u001b[0m\n\u001b[0;32m    122\u001b[0m \u001b[39mdef\u001b[39;00m \u001b[39m_make_request\u001b[39m(\u001b[39mself\u001b[39m, method, route, params\u001b[39m=\u001b[39m{}, endpoint_parameters\u001b[39m=\u001b[39m\u001b[39mNone\u001b[39;00m,\n\u001b[0;32m    123\u001b[0m                   json\u001b[39m=\u001b[39m\u001b[39mNone\u001b[39;00m, data_type\u001b[39m=\u001b[39m\u001b[39mNone\u001b[39;00m, user_auth\u001b[39m=\u001b[39m\u001b[39mFalse\u001b[39;00m):\n\u001b[0;32m    124\u001b[0m     request_params \u001b[39m=\u001b[39m \u001b[39mself\u001b[39m\u001b[39m.\u001b[39m_process_params(params, endpoint_parameters)\n\u001b[1;32m--> 126\u001b[0m     response \u001b[39m=\u001b[39m \u001b[39mself\u001b[39;49m\u001b[39m.\u001b[39;49mrequest(method, route, params\u001b[39m=\u001b[39;49mrequest_params,\n\u001b[0;32m    127\u001b[0m                             json\u001b[39m=\u001b[39;49mjson, user_auth\u001b[39m=\u001b[39;49muser_auth)\n\u001b[0;32m    129\u001b[0m     \u001b[39mif\u001b[39;00m \u001b[39mself\u001b[39m\u001b[39m.\u001b[39mreturn_type \u001b[39mis\u001b[39;00m requests\u001b[39m.\u001b[39mResponse:\n\u001b[0;32m    130\u001b[0m         \u001b[39mreturn\u001b[39;00m response\n",
      "File \u001b[1;32mc:\\Users\\BAlif\\anaconda3\\lib\\site-packages\\tweepy\\client.py:114\u001b[0m, in \u001b[0;36mBaseClient.request\u001b[1;34m(self, method, route, params, json, user_auth)\u001b[0m\n\u001b[0;32m    112\u001b[0m         \u001b[39mreturn\u001b[39;00m \u001b[39mself\u001b[39m\u001b[39m.\u001b[39mrequest(method, route, params, json, user_auth)\n\u001b[0;32m    113\u001b[0m     \u001b[39melse\u001b[39;00m:\n\u001b[1;32m--> 114\u001b[0m         \u001b[39mraise\u001b[39;00m TooManyRequests(response)\n\u001b[0;32m    115\u001b[0m \u001b[39mif\u001b[39;00m response\u001b[39m.\u001b[39mstatus_code \u001b[39m>\u001b[39m\u001b[39m=\u001b[39m \u001b[39m500\u001b[39m:\n\u001b[0;32m    116\u001b[0m     \u001b[39mraise\u001b[39;00m TwitterServerError(response)\n",
      "\u001b[1;31mTooManyRequests\u001b[0m: 429 Too Many Requests\nToo Many Requests"
     ]
    }
   ],
   "source": [
    "tweet_response_list = []\n",
    "for folder in listdir(\"./\"):\n",
    "  if not isfile(join(\"./\", folder)):\n",
    "    for i in listdir(\"./\" + folder):\n",
    "      with open(\"./\"+folder+\"/\"+i) as f:\n",
    "        ids = f.readlines()\n",
    "        for id in ids:\n",
    "          # Request ke API Twitter\n",
    "          tweet = client.get_tweet(\n",
    "            id=id.strip(),\n",
    "          )\n",
    "          if tweet.data is not None:\n",
    "            \n",
    "            tweet_response = {\n",
    "              'textID': str(tweet.data.id),\n",
    "              'tweet_text': tweet.data.text,\n",
    "            }\n",
    "            tweet_response_list.append(tweet_response)\n",
    "          \n",
    "tweets_df = pd.DataFrame(tweet_response_list)\n",
    "\n",
    "tweets_df.head()"
   ]
  },
  {
   "cell_type": "code",
   "execution_count": null,
   "metadata": {},
   "outputs": [],
   "source": [
    "tweets_df.to_excel('tweets.xlsx')"
   ]
  }
 ],
 "metadata": {
  "kernelspec": {
   "display_name": "Python 3.9.12 ('base')",
   "language": "python",
   "name": "python3"
  },
  "language_info": {
   "codemirror_mode": {
    "name": "ipython",
    "version": 3
   },
   "file_extension": ".py",
   "mimetype": "text/x-python",
   "name": "python",
   "nbconvert_exporter": "python",
   "pygments_lexer": "ipython3",
   "version": "3.9.12"
  },
  "orig_nbformat": 4,
  "vscode": {
   "interpreter": {
    "hash": "671a6aa7e5f53b45fe807cb744f50ebce4c530f21920d4a62ee77cb740d991f9"
   }
  }
 },
 "nbformat": 4,
 "nbformat_minor": 2
}
