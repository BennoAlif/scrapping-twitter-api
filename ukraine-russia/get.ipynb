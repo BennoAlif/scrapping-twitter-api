{
 "cells": [
  {
   "cell_type": "code",
   "execution_count": 30,
   "metadata": {},
   "outputs": [],
   "source": [
    "from os import listdir\n",
    "from os.path import isfile, join\n",
    "import tweepy\n",
    "import pandas as pd"
   ]
  },
  {
   "cell_type": "code",
   "execution_count": 48,
   "metadata": {},
   "outputs": [],
   "source": [
    "BEARER_TOKEN = \"AAAAAAAAAAAAAAAAAAAAADRVaQEAAAAAmrpIV%2FQwyFYFfpG0X6JGda4GFbY%3DfpSXBITrmXGMtFXe4QTuzoLwDsWJtIGyyhQWO94EyrVsrxdLuS\"\n",
    "client = tweepy.Client(bearer_token=BEARER_TOKEN)"
   ]
  },
  {
   "cell_type": "code",
   "execution_count": 32,
   "metadata": {},
   "outputs": [],
   "source": [
    "onlyfiles = [f for f in listdir(\"./\") if isfile(join(\"./\", f))]"
   ]
  },
  {
   "cell_type": "code",
   "execution_count": 33,
   "metadata": {},
   "outputs": [
    {
     "data": {
      "text/plain": [
       "80235"
      ]
     },
     "execution_count": 33,
     "metadata": {},
     "output_type": "execute_result"
    }
   ],
   "source": [
    "\n",
    "# tweet_response_list = []\n",
    "tweet_ids = []\n",
    "with open(\"./2022-10/ukraine_russia-2022-10-01-00.txt\") as f:\n",
    "  ids = f.readlines()\n",
    "  for id in ids:\n",
    "    tweet_ids.append(id.strip())\n",
    "len(tweet_ids)"
   ]
  },
  {
   "cell_type": "code",
   "execution_count": 34,
   "metadata": {},
   "outputs": [],
   "source": [
    "def chunks(lst, n):\n",
    "    \"\"\"Yield successive n-sized chunks from lst.\"\"\"\n",
    "    for i in range(0, len(lst), n):\n",
    "        yield lst[i:i + n]"
   ]
  },
  {
   "cell_type": "code",
   "execution_count": 35,
   "metadata": {},
   "outputs": [],
   "source": [
    "parts = list(chunks(tweet_ids, 100))"
   ]
  },
  {
   "cell_type": "code",
   "execution_count": 36,
   "metadata": {},
   "outputs": [
    {
     "name": "stdout",
     "output_type": "stream",
     "text": [
      "Total bagian: 803\n",
      "Potongan per bagian:\n",
      "299\n",
      "598\n"
     ]
    }
   ],
   "source": [
    "# Jumlah bagian\n",
    "print(\"Total bagian:\",len(parts))\n",
    "print(\"Potongan per bagian:\")\n",
    "for i in range(len(parts)):\n",
    "  if i % 299 == 0 and i != 0:\n",
    "    print(i)"
   ]
  },
  {
   "cell_type": "code",
   "execution_count": 49,
   "metadata": {},
   "outputs": [],
   "source": [
    "tweets_list = []\n",
    "\n",
    "for i, ids in enumerate(parts):\n",
    "  # Ubah sesuai potongan perbagian\n",
    "  # if i <= 299:\n",
    "  # if i > 299 and i <= 598:\n",
    "  if i > 598:\n",
    "    temp= []\n",
    "    tweets = client.get_tweets(\n",
    "      ids=ids,\n",
    "    )\n",
    "    temp= []\n",
    "    for tweet in tweets.data:\n",
    "      tweet_response = {\n",
    "        'textID': str(tweet.id),\n",
    "        'tweet_text': tweet.text,\n",
    "      }\n",
    "      temp.append(tweet_response)\n",
    "      tweets_list = tweets_list + temp\n",
    "\n",
    "\n",
    "tweets_df = pd.DataFrame(tweets_list)\n",
    "tweets_df = tweets_df.drop_duplicates(ignore_index=True)\n",
    "\n",
    "# Ubah str(1) agar tidak replace file yang sudah ada\n",
    "tweets_df.to_csv(\"./csv/\" + str(3) + '-2022-10-0.csv')"
   ]
  },
  {
   "cell_type": "markdown",
   "metadata": {},
   "source": [
    "# read the csv file"
   ]
  },
  {
   "cell_type": "code",
   "execution_count": 55,
   "metadata": {},
   "outputs": [],
   "source": [
    "from pathlib import Path\n",
    "import pandas as pd\n",
    "import numpy as np\n",
    "\n",
    "path = r'./csv/'  # or unix / linux / mac path\n",
    "\n",
    "# Get the files from the path provided in the OP\n",
    "files = Path(path).glob('*.csv')  # .rglob to get subdirectories\n",
    "\n",
    "df = pd.concat((pd.read_csv(f, index_col=0) for f in files), ignore_index=True)"
   ]
  },
  {
   "cell_type": "code",
   "execution_count": 61,
   "metadata": {},
   "outputs": [
    {
     "data": {
      "text/html": [
       "<div>\n",
       "<style scoped>\n",
       "    .dataframe tbody tr th:only-of-type {\n",
       "        vertical-align: middle;\n",
       "    }\n",
       "\n",
       "    .dataframe tbody tr th {\n",
       "        vertical-align: top;\n",
       "    }\n",
       "\n",
       "    .dataframe thead th {\n",
       "        text-align: right;\n",
       "    }\n",
       "</style>\n",
       "<table border=\"1\" class=\"dataframe\">\n",
       "  <thead>\n",
       "    <tr style=\"text-align: right;\">\n",
       "      <th></th>\n",
       "      <th>textID</th>\n",
       "      <th>tweet_text</th>\n",
       "    </tr>\n",
       "  </thead>\n",
       "  <tbody>\n",
       "    <tr>\n",
       "      <th>0</th>\n",
       "      <td>1575998907821481984</td>\n",
       "      <td>RT @catturd2: I’m so sick of this bullshit.</td>\n",
       "    </tr>\n",
       "    <tr>\n",
       "      <th>1</th>\n",
       "      <td>1575998908001488897</td>\n",
       "      <td>RT @mae_rusia: 💬 Vladímir Putin: A los anglosa...</td>\n",
       "    </tr>\n",
       "    <tr>\n",
       "      <th>2</th>\n",
       "      <td>1575998908207353858</td>\n",
       "      <td>RT @mhmck: It's 1 a.m. in Ukraine and there's ...</td>\n",
       "    </tr>\n",
       "    <tr>\n",
       "      <th>3</th>\n",
       "      <td>1575998907678543872</td>\n",
       "      <td>And your skin color would still be same if you...</td>\n",
       "    </tr>\n",
       "    <tr>\n",
       "      <th>4</th>\n",
       "      <td>1575998908563877888</td>\n",
       "      <td>RT @Jakob_Reimann: Die #Ostsee ist eines der i...</td>\n",
       "    </tr>\n",
       "  </tbody>\n",
       "</table>\n",
       "</div>"
      ],
      "text/plain": [
       "                textID                                         tweet_text\n",
       "0  1575998907821481984        RT @catturd2: I’m so sick of this bullshit.\n",
       "1  1575998908001488897  RT @mae_rusia: 💬 Vladímir Putin: A los anglosa...\n",
       "2  1575998908207353858  RT @mhmck: It's 1 a.m. in Ukraine and there's ...\n",
       "3  1575998907678543872  And your skin color would still be same if you...\n",
       "4  1575998908563877888  RT @Jakob_Reimann: Die #Ostsee ist eines der i..."
      ]
     },
     "execution_count": 61,
     "metadata": {},
     "output_type": "execute_result"
    }
   ],
   "source": [
    "df.head()"
   ]
  }
 ],
 "metadata": {
  "kernelspec": {
   "display_name": "Python 3.9.12 ('base')",
   "language": "python",
   "name": "python3"
  },
  "language_info": {
   "codemirror_mode": {
    "name": "ipython",
    "version": 3
   },
   "file_extension": ".py",
   "mimetype": "text/x-python",
   "name": "python",
   "nbconvert_exporter": "python",
   "pygments_lexer": "ipython3",
   "version": "3.9.12"
  },
  "orig_nbformat": 4,
  "vscode": {
   "interpreter": {
    "hash": "671a6aa7e5f53b45fe807cb744f50ebce4c530f21920d4a62ee77cb740d991f9"
   }
  }
 },
 "nbformat": 4,
 "nbformat_minor": 2
}
