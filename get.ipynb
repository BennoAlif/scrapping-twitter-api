{
 "cells": [
  {
   "cell_type": "markdown",
   "metadata": {},
   "source": [
    "# Scrapping Twitter API Menggunakan Tweepy"
   ]
  },
  {
   "cell_type": "markdown",
   "metadata": {},
   "source": [
    "## Daftar Developer Twitter\n",
    "Pendaftaran Developer Twitter ini bertujuan untuk mendapatkan Bearer Token yang nantinya akan digunakan pada library Tweepy untuk mengambil data dari Twitter API\n",
    "\n",
    "[![IMAGE_ALT](https://img.youtube.com/vi/E_h1HNjsd-U/0.jpg)](https://www.youtube.com/watch?v=E_h1HNjsd-U)"
   ]
  },
  {
   "cell_type": "markdown",
   "metadata": {},
   "source": [
    "## Instalasi library Tweepy\n",
    "Gunakan perintah berikut pada terminal untuk menginstall library tweepy\n",
    "```\n",
    "pip install tweepy\n",
    "```"
   ]
  },
  {
   "cell_type": "code",
   "execution_count": 1,
   "metadata": {},
   "outputs": [],
   "source": [
    "import tweepy\n",
    "import pandas as pd"
   ]
  },
  {
   "cell_type": "code",
   "execution_count": 2,
   "metadata": {},
   "outputs": [],
   "source": [
    "BEARER_TOKEN = \"AAAAAAAAAAAAAAAAAAAAAEkYWAEAAAAAiCZ95QEqxNKuluivi0dNKwu%2BUIA%3DpXPhzD5xrJFlCx6roDUnzjJ6jtuh8wr2AyPhfZls4g4Yo4kH8y\"\n",
    "client = tweepy.Client(bearer_token=BEARER_TOKEN)"
   ]
  },
  {
   "cell_type": "code",
   "execution_count": 3,
   "metadata": {},
   "outputs": [],
   "source": [
    "tweets = client.search_recent_tweets(\n",
    "  query=\"sepatu\", # Required\n",
    "  max_results = 10, # Optional, default 10\n",
    "  tweet_fields = [\"created_at\", \"text\"], # Optional\n",
    "  user_fields = [\"name\", \"username\", \"description\"], # Optional\n",
    "  expansions='author_id' # Optional\n",
    ")"
   ]
  },
  {
   "cell_type": "markdown",
   "metadata": {},
   "source": [
    "### Penjelasan\n",
    "```query``` digunakan untuk menentukan keyword tweet yang akan dicari\\\n",
    "Selengkapnya: https://developer.twitter.com/en/docs/twitter-api/tweets/search/integrate/build-a-query\n",
    "\n",
    "```max_results``` untuk menentukan jumlah maksimal tweet yang akan dicari, minimal 10 sampai 100\n",
    "\n",
    "```tweet_fileds``` digunakan untuk menentukan atribut mana saja yang akan didapatkan\\\n",
    "atribut yang tersedia: ```attachments, author_id, context_annotations, conversation_id, created_at, entities, geo, id, in_reply_to_user_id, lang, non_public_metrics, public_metrics, organic_metrics, promoted_metrics, possibly_sensitive, referenced_tweets, reply_settings, source, text, withheld```\n",
    "\n",
    "```user_fields``` digunakan untuk menentukan atribut informasi user mana saja yang akan didapatkan\\\n",
    "atribut yang tersedia: ```created_at, description, entities, id, location, name, pinned_tweet_id, profile_image_url, protected, public_metrics, url, username, verified, withheld```\n",
    "\n",
    "```expansions``` digunakan untuk mengambil data tambahan\\\n",
    "atribut yang tersedia: ```attachments.poll_ids, attachments.media_keys, author_id, entities.mentions.username, geo.place_id, in_reply_to_user_id, referenced_tweets.id, referenced_tweets.id.author_id```\n",
    "\n",
    "Selengkapnya dapat dilihat pada tautan berikut:\n",
    "https://developer.twitter.com/en/docs/twitter-api/tweets/search/api-reference/get-tweets-search-recent"
   ]
  },
  {
   "cell_type": "markdown",
   "metadata": {},
   "source": [
    "Jika proses scrapping sudah selesai, Tweepy menghasilkan beberapa data seperti berikut:"
   ]
  },
  {
   "cell_type": "code",
   "execution_count": 4,
   "metadata": {},
   "outputs": [
    {
     "data": {
      "text/plain": [
       "[<Tweet id=1557272025135460353 text='@solinepmenfess Banyak jalan, kalau sepatu kekecilan jadi kurang nyaman.'>,\n",
       " <Tweet id=1557271929157201920 text='RT @HafidzAlattas: Rehat sejenak untuk makan siang, seorang ayah menyuapi anaknya.\\n\\nIbu melahirkanmu tapi ayah yg rela menjadi penjamin hid…'>,\n",
       " <Tweet id=1557271871938494464 text='RT @joshuafuture_: SEPATU CONVERSE\\n⭐ 4.9\\n💵 175k\\n🖇️ https://t.co/nVlwuwP0V4\\n\\n#Shopee88 #zonauang #ShopeeBagiHuaweiMatePad #ShopeePayTHR #Sho…'>,\n",
       " <Tweet id=1557271865537622016 text='Buat kalian ni yang mau cuci sepatu di area surabaya!\\nCek ig ini\\nhttps://t.co/X5rh8fyqJ7\\n\\nFREE PICK UP AND DELIVERY! \\nRamaikan slurd😚 https://t.co/9QRhzc86hb'>,\n",
       " <Tweet id=1557271812299313153 text='RT @tvOneNews: Polisi Turut Geledah Rumah Mertua Ferdy Sambo di Kemang, Penyidik Sita Sepatu hingga Baju https://t.co/VG0m8VknNF'>,\n",
       " <Tweet id=1557271808357048320 text='🎨Sandal Sepatu/Sandal Tali Wanita 🎨\\n\\n1. 🖇️: https://t.co/nVjDZ4Iusg\\n💰:87.500 - ⭐:4.7\\n2. 🖇️: https://t.co/RXxrhihwgQ\\n💰:125.000 - ⭐:4.8\\n3. 🖇️: https://t.co/6c8Ghm5fDf\\n💰:118.400 - ⭐:4.8\\n4. 🖇️: https://t.co/WVV8n2qVGl\\n💰:120.000 - ⭐:4.9\\n\\nTag: Jamsil Untirta pink b #BTSGojek https://t.co/DRyG50z8sL'>,\n",
       " <Tweet id=1557271803726540801 text='@MissMisa__ Asli ya, kalo ga paham apalagi ga injak sepatu sama diem ajalah ga usah sok suci sok bener 😂😂 dan udah pasti selalu yg dibela ortunya 😂😂 basi'>,\n",
       " <Tweet id=1557271785783140352 text='/beauty/ saran t0ko sepatu di 0ren yg cocok buat kuliah dong. Selain p,v,n yaa'>,\n",
       " <Tweet id=1557271770151124992 text='@FWBESS tu sepatu ga ditali apa tidak sulit jalannya'>,\n",
       " <Tweet id=1557271616287305728 text='Hey╭(´∇`)╯ SOAL_Nobita  AyoBantu Retweet &amp; Cekidot TokoTamz pinBB:2BB19B17 Jual Sepatu Baju Aksesoris Cewek di Makassar'>]"
      ]
     },
     "execution_count": 4,
     "metadata": {},
     "output_type": "execute_result"
    }
   ],
   "source": [
    "# tweets data yang berisi atribut yang telah ditentukan pada tweet_fields\n",
    "tweets.data"
   ]
  },
  {
   "cell_type": "code",
   "execution_count": 5,
   "metadata": {},
   "outputs": [
    {
     "data": {
      "text/plain": [
       "{'users': [<User id=1412174798 name=MORNINGSTAR username=darkcov3r>,\n",
       "  <User id=4749592932 name=rachman gojali username=gojali_rachman>,\n",
       "  <User id=1548452927701864451 name=fb, help rt & like username=hidubahagia>,\n",
       "  <User id=1107113770805936134 name=kukuh buka cucian sepatu !!!! sibuk rame bgt1! username=pakuaji24>,\n",
       "  <User id=1477284857168289797 name=Apo Subhan username=apo_subhan>,\n",
       "  <User id=1255634035453263873 name=zaza • freetag username=hzayass>,\n",
       "  <User id=416066763 name=🤡Zee🎪 username=ZEEDROID7>,\n",
       "  <User id=1018730819735580672 name=BEAUTY MENFESS username=beauthingy>,\n",
       "  <User id=1386350562665320452 name=Portgas D. K͟a͟i͟♡.ೃ࿐ || Read pinned pls. username=unattr4ctive>,\n",
       "  <User id=2339760644 name=Online Shop Makassar username=TerkiniGaul>]}"
      ]
     },
     "execution_count": 5,
     "metadata": {},
     "output_type": "execute_result"
    }
   ],
   "source": [
    "# Berisi tentang data tambahan yang telah ditentukan pada user_fields dan expansions\n",
    "tweets.includes"
   ]
  },
  {
   "cell_type": "code",
   "execution_count": 6,
   "metadata": {},
   "outputs": [
    {
     "data": {
      "text/plain": [
       "{'newest_id': '1557272025135460353',\n",
       " 'oldest_id': '1557271616287305728',\n",
       " 'result_count': 10,\n",
       " 'next_token': 'b26v89c19zqg8o3fpz5n29zpokuc62md9o1oaikolnq0t'}"
      ]
     },
     "execution_count": 6,
     "metadata": {},
     "output_type": "execute_result"
    }
   ],
   "source": [
    "# Berisi tentang informasi tambahan\n",
    "tweets.meta"
   ]
  },
  {
   "cell_type": "markdown",
   "metadata": {},
   "source": [
    "## Mapping Tweets Response ke DataFrame"
   ]
  },
  {
   "cell_type": "code",
   "execution_count": 7,
   "metadata": {},
   "outputs": [
    {
     "data": {
      "text/html": [
       "<div>\n",
       "<style scoped>\n",
       "    .dataframe tbody tr th:only-of-type {\n",
       "        vertical-align: middle;\n",
       "    }\n",
       "\n",
       "    .dataframe tbody tr th {\n",
       "        vertical-align: top;\n",
       "    }\n",
       "\n",
       "    .dataframe thead th {\n",
       "        text-align: right;\n",
       "    }\n",
       "</style>\n",
       "<table border=\"1\" class=\"dataframe\">\n",
       "  <thead>\n",
       "    <tr style=\"text-align: right;\">\n",
       "      <th></th>\n",
       "      <th>id</th>\n",
       "      <th>created_at</th>\n",
       "      <th>text</th>\n",
       "      <th>name</th>\n",
       "      <th>username</th>\n",
       "      <th>description</th>\n",
       "    </tr>\n",
       "  </thead>\n",
       "  <tbody>\n",
       "    <tr>\n",
       "      <th>0</th>\n",
       "      <td>1557272025135460353</td>\n",
       "      <td>2022-08-10 07:45:58+00:00</td>\n",
       "      <td>@solinepmenfess Banyak jalan, kalau sepatu kek...</td>\n",
       "      <td>MORNINGSTAR</td>\n",
       "      <td>darkcov3r</td>\n",
       "      <td>MAY WE ALL DIE TWICE.</td>\n",
       "    </tr>\n",
       "    <tr>\n",
       "      <th>1</th>\n",
       "      <td>1557271929157201920</td>\n",
       "      <td>2022-08-10 07:45:35+00:00</td>\n",
       "      <td>RT @HafidzAlattas: Rehat sejenak untuk makan s...</td>\n",
       "      <td>rachman gojali</td>\n",
       "      <td>gojali_rachman</td>\n",
       "      <td></td>\n",
       "    </tr>\n",
       "    <tr>\n",
       "      <th>2</th>\n",
       "      <td>1557271871938494464</td>\n",
       "      <td>2022-08-10 07:45:21+00:00</td>\n",
       "      <td>RT @joshuafuture_: SEPATU CONVERSE\\n⭐ 4.9\\n💵 1...</td>\n",
       "      <td>fb, help rt &amp; like</td>\n",
       "      <td>hidubahagia</td>\n",
       "      <td>rekomendasi shopee</td>\n",
       "    </tr>\n",
       "    <tr>\n",
       "      <th>3</th>\n",
       "      <td>1557271865537622016</td>\n",
       "      <td>2022-08-10 07:45:20+00:00</td>\n",
       "      <td>Buat kalian ni yang mau cuci sepatu di area su...</td>\n",
       "      <td>kukuh buka cucian sepatu !!!! sibuk rame bgt1!</td>\n",
       "      <td>pakuaji24</td>\n",
       "      <td>Pengamat kaum muda sosialita terutama mahasisw...</td>\n",
       "    </tr>\n",
       "    <tr>\n",
       "      <th>4</th>\n",
       "      <td>1557271812299313153</td>\n",
       "      <td>2022-08-10 07:45:07+00:00</td>\n",
       "      <td>RT @tvOneNews: Polisi Turut Geledah Rumah Mert...</td>\n",
       "      <td>Apo Subhan</td>\n",
       "      <td>apo_subhan</td>\n",
       "      <td>Topi</td>\n",
       "    </tr>\n",
       "  </tbody>\n",
       "</table>\n",
       "</div>"
      ],
      "text/plain": [
       "                    id                created_at  \\\n",
       "0  1557272025135460353 2022-08-10 07:45:58+00:00   \n",
       "1  1557271929157201920 2022-08-10 07:45:35+00:00   \n",
       "2  1557271871938494464 2022-08-10 07:45:21+00:00   \n",
       "3  1557271865537622016 2022-08-10 07:45:20+00:00   \n",
       "4  1557271812299313153 2022-08-10 07:45:07+00:00   \n",
       "\n",
       "                                                text  \\\n",
       "0  @solinepmenfess Banyak jalan, kalau sepatu kek...   \n",
       "1  RT @HafidzAlattas: Rehat sejenak untuk makan s...   \n",
       "2  RT @joshuafuture_: SEPATU CONVERSE\\n⭐ 4.9\\n💵 1...   \n",
       "3  Buat kalian ni yang mau cuci sepatu di area su...   \n",
       "4  RT @tvOneNews: Polisi Turut Geledah Rumah Mert...   \n",
       "\n",
       "                                             name        username  \\\n",
       "0                                     MORNINGSTAR       darkcov3r   \n",
       "1                                  rachman gojali  gojali_rachman   \n",
       "2                              fb, help rt & like     hidubahagia   \n",
       "3  kukuh buka cucian sepatu !!!! sibuk rame bgt1!       pakuaji24   \n",
       "4                                      Apo Subhan      apo_subhan   \n",
       "\n",
       "                                         description  \n",
       "0                              MAY WE ALL DIE TWICE.  \n",
       "1                                                     \n",
       "2                                 rekomendasi shopee  \n",
       "3  Pengamat kaum muda sosialita terutama mahasisw...  \n",
       "4                                               Topi  "
      ]
     },
     "execution_count": 7,
     "metadata": {},
     "output_type": "execute_result"
    }
   ],
   "source": [
    "tweet_response_list = []\n",
    "\n",
    "for tweet, user in zip(tweets.data, tweets.includes[\"users\"]):\n",
    "  tweet_response = {\n",
    "    'id': tweet.id,\n",
    "    'created_at': tweet.created_at,\n",
    "    'text': tweet.text,\n",
    "    'name': user.name,\n",
    "    'username': user.username,\n",
    "    'description': user.description\n",
    "  }\n",
    "  tweet_response_list.append(tweet_response)\n",
    "\n",
    "\n",
    "tweets_df = pd.DataFrame(tweet_response_list)\n",
    "\n",
    "tweets_df.head()"
   ]
  }
 ],
 "metadata": {
  "kernelspec": {
   "display_name": "Python 3.9.12 ('base')",
   "language": "python",
   "name": "python3"
  },
  "language_info": {
   "codemirror_mode": {
    "name": "ipython",
    "version": 3
   },
   "file_extension": ".py",
   "mimetype": "text/x-python",
   "name": "python",
   "nbconvert_exporter": "python",
   "pygments_lexer": "ipython3",
   "version": "3.9.12"
  },
  "orig_nbformat": 4,
  "vscode": {
   "interpreter": {
    "hash": "671a6aa7e5f53b45fe807cb744f50ebce4c530f21920d4a62ee77cb740d991f9"
   }
  }
 },
 "nbformat": 4,
 "nbformat_minor": 2
}
